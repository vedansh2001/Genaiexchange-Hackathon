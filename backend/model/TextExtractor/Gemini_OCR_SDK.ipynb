{
 "cells": [
  {
   "cell_type": "markdown",
   "metadata": {},
   "source": [
    "\n",
    "conda install -c conda-forge google-generativeai\n",
    "\n"
   ]
  },
  {
   "cell_type": "code",
   "execution_count": 1,
   "metadata": {},
   "outputs": [
    {
     "name": "stderr",
     "output_type": "stream",
     "text": [
      "c:\\Users\\vedan\\Downloads\\Download_Brave\\GeminiAI\\venv\\Lib\\site-packages\\tqdm\\auto.py:21: TqdmWarning: IProgress not found. Please update jupyter and ipywidgets. See https://ipywidgets.readthedocs.io/en/stable/user_install.html\n",
      "  from .autonotebook import tqdm as notebook_tqdm\n"
     ]
    }
   ],
   "source": [
    "\n",
    "import google.generativeai as genai\n",
    "import os\n",
    "import base64"
   ]
  },
  {
   "cell_type": "code",
   "execution_count": 2,
   "metadata": {},
   "outputs": [],
   "source": [
    "# Replace 'your_api_key' with your actual Google API key\n",
    "os.environ['GEMINI_AI_API_KEY']\n",
    "API_KEY = os.environ['GEMINI_AI_API_KEY']\n",
    "genai.configure(api_key=API_KEY)"
   ]
  },
  {
   "cell_type": "code",
   "execution_count": 3,
   "metadata": {},
   "outputs": [],
   "source": [
    "\n",
    "def prep_image(image_path):\n",
    "    # Upload the file and print a confirmation.\n",
    "    sample_file = genai.upload_file(path=image_path,\n",
    "                                display_name=\"Diagram\")\n",
    "    print(f\"Uploaded file '{sample_file.display_name}' as: {sample_file.uri}\")\n",
    "    file = genai.get_file(name=sample_file.name)\n",
    "    print(f\"Retrieved file '{file.display_name}' as: {sample_file.uri}\")\n",
    "    return sample_file"
   ]
  },
  {
   "cell_type": "code",
   "execution_count": 4,
   "metadata": {},
   "outputs": [],
   "source": [
    "\n",
    "def extract_text_from_image(image_path, prompt):\n",
    "    # Choose a Gemini model.\n",
    "    model = genai.GenerativeModel(model_name=\"gemini-1.5-pro\")\n",
    "    # Prompt the model with text and the previously uploaded image.\n",
    "    response = model.generate_content([image_path, prompt])\n",
    "    return response.text"
   ]
  },
  {
   "cell_type": "code",
   "execution_count": 5,
   "metadata": {},
   "outputs": [
    {
     "name": "stdout",
     "output_type": "stream",
     "text": [
      "Uploaded file 'Diagram' as: https://generativelanguage.googleapis.com/v1beta/files/uhauxim7r9e2\n",
      "Retrieved file 'Diagram' as: https://generativelanguage.googleapis.com/v1beta/files/uhauxim7r9e2\n",
      "Extracted Text:\n",
      "JETPACK BACKPACK\n",
      "\n",
      "FITS 18\" LAPTOP\n",
      "\n",
      "PADDED\n",
      "STRAP \n",
      "SUPPORT\n",
      "\n",
      "LIGHTWEIGHT,\n",
      "LOOKS LIKE\n",
      "A NORMAL\n",
      "BACKPACK \n",
      "\n",
      "USB-C\n",
      "CHARGING\n",
      "\n",
      "15-MIN\n",
      "BATTERY\n",
      "LIFE\n",
      "\n",
      "RETRACTABLE\n",
      "BOOSTERS\n",
      "\n",
      "STEAM-POWERED,\n",
      "GREEN/CLEAN\n"
     ]
    }
   ],
   "source": [
    "sample_file = prep_image('jetpack.jpg') \n",
    "text = extract_text_from_image(sample_file, \"Extract the text in the image verbatim\")\n",
    "if text:\n",
    "    print(\"Extracted Text:\")\n",
    "    print(text)\n",
    "else:\n",
    "    print(\"Failed to extract text from the image.\")"
   ]
  },
  {
   "cell_type": "code",
   "execution_count": null,
   "metadata": {},
   "outputs": [],
   "source": [
    "sample_file = prep_image('jetpack2.jpg') \n",
    "text = extract_text_from_image(sample_file, \"Analyze the given diagram and carefully extract the information. Include the cost of the item\")\n",
    "if text:\n",
    "    print(\"Interpreted Image:\")\n",
    "    print(text)\n",
    "else:\n",
    "    print(\"Failed to extract text from the image.\")"
   ]
  }
 ],
 "metadata": {
  "kernelspec": {
   "display_name": "venv",
   "language": "python",
   "name": "python3"
  },
  "language_info": {
   "codemirror_mode": {
    "name": "ipython",
    "version": 3
   },
   "file_extension": ".py",
   "mimetype": "text/x-python",
   "name": "python",
   "nbconvert_exporter": "python",
   "pygments_lexer": "ipython3",
   "version": "3.12.3"
  }
 },
 "nbformat": 4,
 "nbformat_minor": 2
}
